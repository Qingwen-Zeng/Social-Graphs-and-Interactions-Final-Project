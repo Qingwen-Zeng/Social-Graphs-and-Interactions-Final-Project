{
 "cells": [
  {
   "cell_type": "code",
   "execution_count": 1,
   "metadata": {},
   "outputs": [],
   "source": [
    "import numpy as np\n",
    "import matplotlib.pyplot as plt\n",
    "import networkx as nx\n",
    "import json\n",
    "from collections import defaultdict"
   ]
  },
  {
   "cell_type": "code",
   "execution_count": 2,
   "metadata": {},
   "outputs": [
    {
     "name": "stdout",
     "output_type": "stream",
     "text": [
      "Number of Nodes: 639\n",
      "Number of Edges: 2760\n"
     ]
    }
   ],
   "source": [
    "# Load the JSON data \n",
    "file_path = r'./../json_files/filtered_summary.json'\n",
    "with open(file_path, 'r') as file:\n",
    "    data = json.load(file)\n",
    "\n",
    "# Create an undirected graph\n",
    "G = nx.Graph()\n",
    "\n",
    "# Add nodes and edges based only on 'mentions'\n",
    "for person, details in data.items():\n",
    "    word_count = details.get(\"word_count\", 0)\n",
    "    \n",
    "    # Convert the lists to sets and find the intersection\n",
    "    mutual_links = details.get(\"mention_intersection\", [])\n",
    "\n",
    "    # Add the person as a node with the 'word_count' attribute\n",
    "    G.add_node(person, word_count=word_count)\n",
    "    \n",
    "    # Add edges for mentions only\n",
    "    for mentioned in mutual_links:\n",
    "        G.add_edge(person, mentioned)\n",
    "\n",
    "# Output the graph's number of nodes and edges\n",
    "num_nodes_undirected = G.number_of_nodes()\n",
    "num_edges_undirected = G.number_of_edges()\n",
    "\n",
    "# Output a sample of 4 nodes with their attributes\n",
    "sample_nodes_undirected = list(G.nodes(data=True))[:4]\n",
    "\n",
    "# Print results\n",
    "print(\"Number of Nodes:\", num_nodes_undirected)\n",
    "print(\"Number of Edges:\", num_edges_undirected)"
   ]
  },
  {
   "cell_type": "code",
   "execution_count": 3,
   "metadata": {},
   "outputs": [],
   "source": [
    "# Load the arcs JSON data\n",
    "arcs_file_path = r'./../json_files/character_to_arcs.json'  # Replace with your actual file path\n",
    "with open(arcs_file_path, 'r') as file:\n",
    "    arcs_data = json.load(file)\n",
    "\n",
    "# Assume 'G' is your graph; add 'ARC' attribute to each node\n",
    "for node in G.nodes:\n",
    "    arcs = arcs_data.get(node, [])  # Default to an empty list if no arcs found\n",
    "    G.nodes[node]['ARC'] = \", \".join(arcs)  # Convert the list of arcs to a comma-separated string"
   ]
  },
  {
   "cell_type": "code",
   "execution_count": 4,
   "metadata": {},
   "outputs": [],
   "source": [
    "# Save the graph to a file in GEXF format\n",
    "output_file_path_gexf = r'./../networks/One_Piece.gexf'  # Replace with your desired file path\n",
    "nx.write_gexf(G, output_file_path_gexf)"
   ]
  }
 ],
 "metadata": {
  "kernelspec": {
   "display_name": "base",
   "language": "python",
   "name": "python3"
  },
  "language_info": {
   "codemirror_mode": {
    "name": "ipython",
    "version": 3
   },
   "file_extension": ".py",
   "mimetype": "text/x-python",
   "name": "python",
   "nbconvert_exporter": "python",
   "pygments_lexer": "ipython3",
   "version": "3.12.3"
  }
 },
 "nbformat": 4,
 "nbformat_minor": 2
}
