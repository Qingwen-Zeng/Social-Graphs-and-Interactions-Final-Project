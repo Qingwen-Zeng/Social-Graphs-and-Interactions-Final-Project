{
 "cells": [
  {
   "cell_type": "markdown",
   "metadata": {},
   "source": [
    "# One Piece Network Analysis Project\n",
    "\n",
    "## Project Goals\n",
    "The primary goal of this project is to analyze the characters and relationships in the *One Piece* series through a combination of network analysis and sentiment analysis. The project is structured around the following objectives:\n",
    "\n",
    "1. **Data Collection and Cleaning**  \n",
    "   - Extract content related to *One Piece* characters from the official *One Piece* Wiki.  \n",
    "   - Process and clean the data to remove unnecessary HTML tags, creating plain text files for each character.\n",
    "   - Corresponding code: **`1_reading_cleaning_content.ipynb`**, **`1.1_reading_content_aux.ipynb`**\n",
    "\n",
    "2. **Character Filtering**  \n",
    "   - Implement a filtering mechanism using a custom \"score\" metric to identify the most important characters in the series.  \n",
    "   - Ensure a manageable dataset that focuses on relevant entities for subsequent analysis.\n",
    "   - Corresponding code: **`2_filtering_characters.ipynb`**\n",
    "\n",
    "3. **Inner Network Construction and Analysis**  \n",
    "   - Develop inner networks representing relationships within specific story arcs of *One Piece*. \n",
    "   - use degree centrality and betweenness centrality to reflect the importance and influence of characters within the chapter. \n",
    "   - Corresponding code: **`3_inner_network.ipynb`**\n",
    "\n",
    "4. **Externnal Network Construction and Analysis**  \n",
    "   - Build external networks to track changes and dynamics across different arcs, enabling temporal analysis of the series' narrative structure.  \n",
    "   - Analyzing the degree distribution's change along with the external network growth the fitted model's parameteres changes \n",
    "   - Network partition and TF-IDF cross-comparison with arc\n",
    "   - Sentiment Analysis for important characters and top 10 communities\n",
    "   - Corresponding code: **`4_external_network.ipynb`**(external network construction and degree distribution), **`5_complete_network.ipynb`**(construct the network contains all the characters), **`6_community_partition.ipynb`**, **`7_sentiment_analysis.ipunb`**\n",
    "\n",
    "## Project Structure\n",
    "\n",
    "- **`onepiece`**: Contains original character data in `.txt` files, extracted in raw HTML format.\n",
    "\n",
    "- **`onepiece_cleaned`**: Cleaned text files for each character, with HTML tags removed.\n",
    "- **`networks`**: Includes the main network data:\n",
    "  - `One_Piece.gexf`: Complete network of all characters and their relationships.\n",
    "  - `one_piece_cummulative`: Sub-networks for temporal evolution analysis of the series.\n",
    "- **`Codes`**: Source code in Jupyter Notebook format:\n",
    "  - `1_reading_cleaning_content.ipynb`: Extracts and cleans character data.\n",
    "  - `1.1_reading_content_aux.ipynb`: Alternate data processing script.\n",
    "  - `2_filtering_characters.ipynb`: Filters important characters using a \"score\" metric.\n",
    "  - `3_inner_network.ipynb`: Analyzes internal networks in major story arcs.\n",
    "  - `4_external_network.ipynb`: Creates networks across arcs to study dynamics.\n",
    "  - `5_complete_network.ipynb`: Builds the complete network for the series.\n",
    "  - `6_community_partition.ipynb`: Community detection and advanced metrics analysis.\n",
    "  - `7_sentiment_analysis.ipynb`: Sentiment analysis of key characters.\n",
    "- **`json_files`**: The json file of the correspondence between arc and role is convenient for quick retrieval and network construction \n",
    "- **`Images`**: Visualizations and figures for project reports.\n",
    "\n",
    "\n"
   ]
  },
  {
   "cell_type": "markdown",
   "metadata": {},
   "source": []
  }
 ],
 "metadata": {
  "language_info": {
   "name": "python"
  }
 },
 "nbformat": 4,
 "nbformat_minor": 2
}
