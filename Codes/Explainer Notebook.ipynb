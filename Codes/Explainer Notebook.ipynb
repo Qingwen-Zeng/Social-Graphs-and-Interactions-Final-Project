{
 "cells": [
  {
   "cell_type": "markdown",
   "metadata": {},
   "source": [
    "# One Piece Network Analysis Project\n",
    "\n",
    "## Project Goals\n",
    "The primary goal of this project is to analyze the characters and relationships in the *One Piece* series through a combination of network analysis and sentiment analysis. The project is structured around the following objectives:\n",
    "\n",
    "1. **Data Collection and Cleaning**  \n",
    "   - Extract content related to *One Piece* characters from the official *One Piece* Wiki.  \n",
    "   - Process and clean the data to remove unnecessary HTML tags, creating plain text files for each character.\n",
    "\n",
    "2. **Character Filtering**  \n",
    "   - Implement a filtering mechanism using a custom \"score\" metric to identify the most important characters in the series.  \n",
    "   - Ensure a manageable dataset that focuses on relevant entities for subsequent analysis.\n",
    "\n",
    "3. **Network Construction and Analysis**  \n",
    "   - Develop internal networks representing relationships within specific story arcs of *One Piece*.  \n",
    "   - Build external networks to track changes and dynamics across different arcs, enabling temporal analysis of the series' narrative structure.  \n",
    "   - Create a complete network to visualize and analyze the overarching structure of *One Piece*.\n",
    "\n",
    "4. **Community Detection and Advanced Metrics**  \n",
    "   - Partition the network into communities to understand clusters of characters and their interactions.  \n",
    "   - Perform TF-IDF analyse to quantify the roles and significance of these communities within the series.\n",
    "\n",
    "5. **Sentiment Analysis**  \n",
    "   - Perform sentiment analysis on key characters to study their emotional tone and its evolution throughout the series.\n",
    "\n",
    "6. **Visualization and Reporting**  \n",
    "   - Generate visualizations of the networks and analysis results for better understanding and presentation.  \n",
    "   - Include figures and charts in the project report to illustrate findings effectively.\n",
    "\n",
    "## Project Structure\n",
    "\n",
    "- **`onepiece`**: Contains original character data in `.txt` files, extracted in raw HTML format.\n",
    "\n",
    "- **`onepiece_cleaned`**: Cleaned text files for each character, with HTML tags removed.\n",
    "- **`networks`**: Includes the main network data:\n",
    "  - `One_Piece.gexf`: Complete network of all characters and their relationships.\n",
    "  - `one_piece_cummulative`: Sub-networks for temporal evolution analysis of the series.\n",
    "- **`jupyter_notebooks`**: Source code in Jupyter Notebook format:\n",
    "  - `1_reading_cleaning_content.ipynb`: Extracts and cleans character data.\n",
    "  - `1.1_reading_content_aux.ipynb`: Alternate data processing script.\n",
    "  - `2_filtering_characters.ipynb`: Filters important characters using a \"score\" metric.\n",
    "  - `3_inner_network.ipynb`: Analyzes internal networks in major story arcs.\n",
    "  - `4_external_network.ipynb`: Creates networks across arcs to study dynamics.\n",
    "  - `5_complete_network.ipynb`: Builds the complete network for the series.\n",
    "  - `6_community_partition.ipynb`: Community detection and advanced metrics analysis.\n",
    "  - `7_sentiment_analysis.ipynb`: Sentiment analysis of key characters.\n",
    "- **`json_files`**: Intermediate data in JSON format for faster network creation.\n",
    "- **`Images`**: Visualizations and figures for project reports.\n",
    "\n",
    "\n"
   ]
  }
 ],
 "metadata": {
  "language_info": {
   "name": "python"
  }
 },
 "nbformat": 4,
 "nbformat_minor": 2
}
