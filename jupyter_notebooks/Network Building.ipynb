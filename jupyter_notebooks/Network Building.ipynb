{
 "cells": [
  {
   "cell_type": "code",
   "execution_count": 8,
   "metadata": {},
   "outputs": [],
   "source": [
    "import numpy as np\n",
    "import matplotlib.pyplot as plt\n",
    "import networkx as nx\n",
    "import json\n",
    "from collections import defaultdict"
   ]
  },
  {
   "cell_type": "code",
   "execution_count": 9,
   "metadata": {},
   "outputs": [
    {
     "name": "stdout",
     "output_type": "stream",
     "text": [
      "Number of Nodes: 639\n",
      "Number of Edges: 2744\n",
      "\n",
      "Sample Nodes with Attributes:\n",
      "- A O: 834 words\n",
      "- Bizarre: 642 words\n",
      "- Decalvan Brothers: 932 words\n",
      "- Edward Weevil: 1521 words\n"
     ]
    }
   ],
   "source": [
    "# Load the JSON data \n",
    "file_path = r'./../json_files/filtered_summary.json'\n",
    "with open(file_path, 'r') as file:\n",
    "    data = json.load(file)\n",
    "\n",
    "# Create an undirected graph\n",
    "G = nx.Graph()\n",
    "\n",
    "# Add nodes and edges based only on 'mentions'\n",
    "for person, details in data.items():\n",
    "    word_count = details.get(\"word_count\", 0)\n",
    "    \n",
    "    # Convert the lists to sets and find the intersection\n",
    "    mutual_links = details.get(\"mention_intersection\", [])\n",
    "\n",
    "    # Add the person as a node with the 'word_count' attribute\n",
    "    G.add_node(person, word_count=word_count)\n",
    "    \n",
    "    # Add edges for mentions only\n",
    "    for mentioned in mutual_links:\n",
    "        G.add_edge(person, mentioned)\n",
    "\n",
    "# Output the graph's number of nodes and edges\n",
    "num_nodes_undirected = G.number_of_nodes()\n",
    "num_edges_undirected = G.number_of_edges()\n",
    "\n",
    "# Output a sample of 4 nodes with their attributes\n",
    "sample_nodes_undirected = list(G.nodes(data=True))[:4]\n",
    "\n",
    "# Print results\n",
    "print(\"Number of Nodes:\", num_nodes_undirected)\n",
    "print(\"Number of Edges:\", num_edges_undirected)\n",
    "\n",
    "# Better print\n",
    "print(\"\\nSample Nodes with Attributes:\")\n",
    "for node, attrs in sample_nodes_undirected[:4]:\n",
    "    print(f\"- {node}: {attrs['word_count']} words\")"
   ]
  },
  {
   "cell_type": "code",
   "execution_count": 10,
   "metadata": {},
   "outputs": [
    {
     "name": "stdout",
     "output_type": "stream",
     "text": [
      "Sample Nodes with 'ARC' Attribute:\n",
      "- A O:\n",
      "  - Word Count: 834\n",
      "  - Arcs: Marineford Arc, Post-War Arc, Zou Arc, Wano Country Arc, Levely Arc, Egghead Arc\n",
      "\n",
      "- Bizarre:\n",
      "  - Word Count: 642\n",
      "  - Arcs: Marineford Arc, Post-War Arc, Zou Arc\n",
      "\n",
      "- Decalvan Brothers:\n",
      "  - Word Count: 932\n",
      "  - Arcs: Marineford Arc, Post-War Arc, Zou Arc\n",
      "\n",
      "- Edward Weevil:\n",
      "  - Word Count: 1521\n",
      "  - Arcs: Zou Arc, Wano Country Arc, Egghead Arc\n",
      "\n",
      "- Elmy:\n",
      "  - Word Count: 595\n",
      "  - Arcs: Marineford Arc, Post-War Arc, Zou Arc\n",
      "\n"
     ]
    }
   ],
   "source": [
    "# Load the arcs JSON data\n",
    "arcs_file_path = r'./../json_files/character_to_arcs.json'  # Replace with your actual file path\n",
    "with open(arcs_file_path, 'r') as file:\n",
    "    arcs_data = json.load(file)\n",
    "\n",
    "# Assume 'G' is your graph; add 'ARC' attribute to each node\n",
    "for node in G.nodes:\n",
    "    arcs = arcs_data.get(node, [])  # Default to an empty list if no arcs found\n",
    "    G.nodes[node]['ARC'] = \", \".join(arcs)  # Convert the list of arcs to a comma-separated string\n",
    "\n",
    "print(\"Sample Nodes with 'ARC' Attribute:\")\n",
    "for node, attrs in list(G.nodes(data=True))[:5]:\n",
    "    print(f\"- {node}:\")\n",
    "    print(f\"  - Word Count: {attrs['word_count']}\")\n",
    "    print(f\"  - Arcs: {attrs['ARC']}\")\n",
    "    print()"
   ]
  },
  {
   "cell_type": "code",
   "execution_count": 11,
   "metadata": {},
   "outputs": [
    {
     "name": "stdout",
     "output_type": "stream",
     "text": [
      "The graph has been saved in GEXF format at: ./../networks/One_Piece.gexf\n"
     ]
    }
   ],
   "source": [
    "# Save the graph to a file in GEXF format\n",
    "output_file_path_gexf = r'./../networks/One_Piece.gexf'  # Replace with your desired file path\n",
    "nx.write_gexf(G, output_file_path_gexf)\n",
    "\n",
    "print(f\"The graph has been saved in GEXF format at: {output_file_path_gexf}\")"
   ]
  }
 ],
 "metadata": {
  "kernelspec": {
   "display_name": "base",
   "language": "python",
   "name": "python3"
  },
  "language_info": {
   "codemirror_mode": {
    "name": "ipython",
    "version": 3
   },
   "file_extension": ".py",
   "mimetype": "text/x-python",
   "name": "python",
   "nbconvert_exporter": "python",
   "pygments_lexer": "ipython3",
   "version": "3.12.3"
  }
 },
 "nbformat": 4,
 "nbformat_minor": 2
}
