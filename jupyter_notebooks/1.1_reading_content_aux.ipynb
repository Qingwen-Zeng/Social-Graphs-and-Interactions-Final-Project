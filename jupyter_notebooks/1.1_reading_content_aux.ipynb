{
 "cells": [
  {
   "cell_type": "code",
   "execution_count": null,
   "metadata": {},
   "outputs": [],
   "source": [
    "from urllib.request import urlopen\n",
    "import matplotlib.pyplot as plt\n",
    "import networkx as nx\n",
    "from bs4 import BeautifulSoup \n",
    "from urllib.parse import urljoin  "
   ]
  },
  {
   "cell_type": "markdown",
   "metadata": {},
   "source": [
    "### 1.Crawl all role names and URL links from the role list page"
   ]
  },
  {
   "cell_type": "code",
   "execution_count": null,
   "metadata": {},
   "outputs": [],
   "source": [
    "raw_response=urlopen(\"https://onepiece.fandom.com/wiki/List_of_Canon_Characters\")\n",
    "response=raw_response.read()\n",
    "soup=BeautifulSoup(response,\"html.parser\")\n",
    "# Find the first table element in the HTML with the class \"fandom-table sortable\"\n",
    "table = soup.find(\"table\", class_=\"fandom-table sortable\")\n",
    "\n",
    "# Check if the table exists\n",
    "if table:\n",
    "    # Find the <tbody> element within the table, which contains the table rows\n",
    "    tbody = table.find(\"tbody\")\n",
    "\n",
    "    # Find all rows (<tr> elements) inside the <tbody>\n",
    "    rows = tbody.find_all(\"tr\")\n",
    "\n",
    "    # Initialize an empty dictionary to store character names and their links\n",
    "    names = {}\n",
    "\n",
    "    # Iterate through each row in the table\n",
    "    for row in rows:\n",
    "        # Find all columns (<td> elements) within the current row\n",
    "        cols = row.find_all(\"td\")\n",
    "\n",
    "        # Check if the row contains more than one column (to ensure valid data)\n",
    "        if len(cols) > 1:\n",
    "            # Find the <a> (link) element within the second column\n",
    "            name_link = cols[1].find(\"a\")\n",
    "\n",
    "            # If a valid link is found\n",
    "            if name_link:\n",
    "                # Use the text of the link as the key (character name)\n",
    "                # Use the \"href\" attribute of the link as the value (relative URL to the character's page)\n",
    "                names[name_link.text] = name_link.get(\"href\")"
   ]
  },
  {
   "cell_type": "markdown",
   "metadata": {},
   "source": [
    "### 2.Save the main page of each character to a txt file"
   ]
  },
  {
   "cell_type": "code",
   "execution_count": null,
   "metadata": {},
   "outputs": [],
   "source": [
    "# Base URL of the One Piece Wiki\n",
    "base_url = \"https://onepiece.fandom.com\"\n",
    "\n",
    "# Define the output folder to save the downloaded pages\n",
    "output_folder = \".\\\\onepiece\"\n",
    "os.makedirs(output_folder, exist_ok=True)  # Create the folder if it doesn't already exist\n",
    "\n",
    "# Dictionary to keep track of links that timed out\n",
    "timeout_links = {}\n",
    "\n",
    "# Iterate through the `names` dictionary, which contains character names as keys and relative links as values\n",
    "for name, relative_link in names.items():\n",
    "    # Construct the full URL by combining the base URL and the relative link\n",
    "    full_url = urljoin(base_url, relative_link)\n",
    "\n",
    "    try:\n",
    "        # Send a GET request to fetch the web page, with a timeout of 2 seconds\n",
    "        response = requests.get(full_url, timeout=2)\n",
    "        # Raise an exception for HTTP errors\n",
    "        response.raise_for_status()\n",
    "\n",
    "        # Define the file path to save the page content\n",
    "        file_path = os.path.join(output_folder, f\"{name}.txt\")\n",
    "        # Write the page content to a text file in UTF-8 encoding\n",
    "        with open(file_path, \"w\", encoding=\"utf-8\") as file:\n",
    "            file.write(response.text)\n",
    "\n",
    "        # Print a success message\n",
    "        print(f\"Saved {name} page to {file_path}\")\n",
    "\n",
    "    # Handle timeout errors\n",
    "    except requests.exceptions.Timeout:\n",
    "        timeout_links[name] = full_url  # Record the timed-out link in `timeout_links`\n",
    "\n",
    "    # Handle other types of HTTP request exceptions\n",
    "    except requests.exceptions.RequestException as e:\n",
    "        print(f\"Failed to download {name}: {e}\")  # Print an error message\n"
   ]
  }
 ],
 "metadata": {
  "kernelspec": {
   "display_name": "base",
   "language": "python",
   "name": "python3"
  },
  "language_info": {
   "codemirror_mode": {
    "name": "ipython",
    "version": 3
   },
   "file_extension": ".py",
   "mimetype": "text/x-python",
   "name": "python",
   "nbconvert_exporter": "python",
   "pygments_lexer": "ipython3",
   "version": "3.11.4"
  }
 },
 "nbformat": 4,
 "nbformat_minor": 2
}
