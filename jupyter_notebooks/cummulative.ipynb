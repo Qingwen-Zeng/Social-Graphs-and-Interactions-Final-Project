{
 "cells": [
  {
   "cell_type": "code",
   "execution_count": 3,
   "metadata": {},
   "outputs": [
    {
     "name": "stdout",
     "output_type": "stream",
     "text": [
      "Archivo guardado: cumulative_step_1.gexf\n",
      "Archivo guardado: cumulative_step_2.gexf\n",
      "Archivo guardado: cumulative_step_3.gexf\n",
      "Archivo guardado: cumulative_step_4.gexf\n",
      "Archivo guardado: cumulative_step_5.gexf\n"
     ]
    }
   ],
   "source": [
    "import json\n",
    "import networkx as nx\n",
    "import math\n",
    "import os\n",
    "\n",
    "# Cargar datos del archivo JSON de resumen\n",
    "file_path = r'./../json_files/filtered_summary.json'\n",
    "with open(file_path, 'r') as file:\n",
    "    data = json.load(file)\n",
    "\n",
    "# Cargar datos de los arcos desde el archivo JSON\n",
    "arcs_file_path = r'./../json_files/character_to_arcs.json'\n",
    "with open(arcs_file_path, 'r') as file:\n",
    "    arcs_data = json.load(file)\n",
    "\n",
    "# Lista de arcos ordenados cronológicamente\n",
    "sorted_arcs = [\n",
    "    \"Romance Dawn Arc\", \"Orange Town Arc\", \"Syrup Village Arc\", \"Baratie Arc\", \"Arlong Park Arc\", \"Loguetown Arc\",\n",
    "    \"Reverse Mountain Arc\", \"Whisky Peak Arc\", \"Little Garden Arc\", \"Drum Island Arc\", \"Arabasta Arc\", \"Jaya Arc\",\n",
    "    \"Skypiea Arc\", \"Long Ring Long Land Arc\", \"Water 7 Arc\", \"Enies Lobby Arc\", \"Post-Enies Lobby Arc\",\n",
    "    \"Thriller Bark Arc\", \"Sabaody Archipelago Arc\", \"Amazon Lily Arc\", \"Impel Down Arc\", \"Marineford Arc\",\n",
    "    \"Post-War Arc\", \"Return to Sabaody Arc\", \"Fish-Man Island Arc\", \"Punk Hazard Arc\", \"Dressrosa Arc\", \"Zou Arc\",\n",
    "    \"Whole Cake Island Arc\", \"Levely Arc\", \"Wano Country Arc\", \"Egghead Arc\"\n",
    "]\n",
    "\n",
    "# Dividir los arcos en 5 segmentos\n",
    "num_steps = 5\n",
    "segment_size = len(sorted_arcs) // num_steps\n",
    "remainder = len(sorted_arcs) % num_steps\n",
    "\n",
    "# Crear los segmentos, asegurándose de que todos los arcos sean cubiertos\n",
    "arc_segments = []\n",
    "start = 0\n",
    "for i in range(num_steps):\n",
    "    # Asignar el tamaño base más el \"extra\" si es el segmento con el residuo\n",
    "    end = start + segment_size + (1 if i < remainder else 0)\n",
    "    arc_segments.append(sorted_arcs[start:end])\n",
    "    start = end\n",
    "\n",
    "# Generar una red para cada segmento de arcos\n",
    "for i, segment in enumerate(arc_segments):\n",
    "    # Crear un nuevo grafo\n",
    "    G_segment = nx.Graph()\n",
    "\n",
    "    # Iterar sobre los datos para añadir nodos y relaciones basados en los arcos del segmento\n",
    "    for person, details in data.items():\n",
    "        word_count = details.get(\"word_count\", 0)\n",
    "        mutual_links = details.get(\"mention_intersection\", [])\n",
    "        character_arcs = arcs_data.get(person, [])\n",
    "        \n",
    "        # Verificar si el personaje pertenece a alguno de los arcos en el segmento actual\n",
    "        if any(arc in character_arcs for arc in segment):\n",
    "            # Añadir el nodo al grafo con su atributo 'word_count'\n",
    "            G_segment.add_node(person, word_count=word_count)\n",
    "\n",
    "            # Añadir relaciones con menciones mutuas\n",
    "            for mentioned in mutual_links:\n",
    "                if mentioned in data:  # Asegurarse de que la mención exista en los datos\n",
    "                    G_segment.add_edge(person, mentioned)\n",
    "\n",
    "    # Guardar el grafo como archivo .gexf\n",
    "    relative_path = r'./../networks/one_piece_cumulative'\n",
    "    filename = f\"cumulative_step_{i + 1}.gexf\"\n",
    "    nx.write_gexf(G_segment, os.path.join(relative_path,filename))\n",
    "    print(f\"Archivo guardado: {filename}\")\n"
   ]
  }
 ],
 "metadata": {
  "kernelspec": {
   "display_name": "base",
   "language": "python",
   "name": "python3"
  },
  "language_info": {
   "codemirror_mode": {
    "name": "ipython",
    "version": 3
   },
   "file_extension": ".py",
   "mimetype": "text/x-python",
   "name": "python",
   "nbconvert_exporter": "python",
   "pygments_lexer": "ipython3",
   "version": "3.12.3"
  }
 },
 "nbformat": 4,
 "nbformat_minor": 2
}
