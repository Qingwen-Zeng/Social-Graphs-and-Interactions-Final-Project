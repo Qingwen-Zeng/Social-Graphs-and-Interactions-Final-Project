{
 "cells": [
  {
   "cell_type": "code",
   "execution_count": 1,
   "metadata": {},
   "outputs": [],
   "source": [
    "import matplotlib.pyplot as plt\n",
    "import networkx as nx"
   ]
  },
  {
   "cell_type": "code",
   "execution_count": 2,
   "metadata": {},
   "outputs": [],
   "source": [
    "# Define the path to the GEXF file\n",
    "file_path = r'./../networks/One_Piece.gexf'  # Replace with the actual path to your file\n",
    "\n",
    "# Load the graph from the GEXF file\n",
    "G = nx.read_gexf(file_path)"
   ]
  },
  {
   "cell_type": "code",
   "execution_count": null,
   "metadata": {},
   "outputs": [
    {
     "name": "stdout",
     "output_type": "stream",
     "text": [
      "Archivo guardado: cumulative_step_1.gexf\n",
      "Archivo guardado: cumulative_step_2.gexf\n",
      "Archivo guardado: cumulative_step_3.gexf\n",
      "Archivo guardado: cumulative_step_4.gexf\n",
      "Archivo guardado: cumulative_step_5.gexf\n"
     ]
    }
   ],
   "source": [
    "import math\n",
    "import networkx as nx\n",
    "import os\n",
    "\n",
    "sorted_arcs = [\n",
    "    \"Romance Dawn Arc\", \"Orange Town Arc\", \"Syrup Village Arc\", \"Baratie Arc\", \"Arlong Park Arc\", \"Loguetown Arc\",\n",
    "    \"Reverse Mountain Arc\", \"Whisky Peak Arc\", \"Little Garden Arc\", \"Drum Island Arc\", \"Arabasta Arc\", \"Jaya Arc\",\n",
    "    \"Skypiea Arc\", \"Long Ring Long Land Arc\", \"Water 7 Arc\", \"Enies Lobby Arc\", \"Post-Enies Lobby Arc\",\n",
    "    \"Thriller Bark Arc\", \"Sabaody Archipelago Arc\", \"Amazon Lily Arc\", \"Impel Down Arc\", \"Marineford Arc\",\n",
    "    \"Post-War Arc\", \"Return to Sabaody Arc\", \"Fish-Man Island Arc\", \"Punk Hazard Arc\", \"Dressrosa Arc\", \"Zou Arc\",\n",
    "    \"Whole Cake Island Arc\", \"Levely Arc\", \"Wano Country Arc\", \"Egghead Arc\"\n",
    "]\n",
    "\n",
    "# Longitud total y tamaño de cada segmento\n",
    "num_steps = 5\n",
    "segment_size = math.ceil(len(sorted_arcs) / num_steps)\n",
    "\n",
    "# Dividir los arcos en 5 segmentos\n",
    "arc_segments = [\n",
    "    sorted_arcs[i:i + segment_size] for i in range(0, len(sorted_arcs), segment_size)\n",
    "]\n",
    "\n",
    "# Red acumulativa inicial (vacía)\n",
    "cumulative_G = nx.Graph()\n",
    "\n",
    "# Iterar por cada segmento y construir la red acumulativa\n",
    "for i, segment in enumerate(arc_segments):\n",
    "    # Clonar la red acumulativa anterior\n",
    "    current_G = cumulative_G.copy()\n",
    "\n",
    "    # Añadir nodos y relaciones correspondientes al segmento actual\n",
    "    for arc in segment:\n",
    "        for node in G.nodes:\n",
    "            if arc in G.nodes[node]['ARC']:\n",
    "                # Añadir el nodo al grafo acumulativo\n",
    "                if node not in current_G:\n",
    "                    current_G.add_node(node, **G.nodes[node])\n",
    "\n",
    "                    # Crear relaciones con todos los nodos ya existentes\n",
    "                    for existing_node in current_G.nodes:\n",
    "                        if existing_node != node:\n",
    "                            current_G.add_edge(node, existing_node)\n",
    "                else:\n",
    "                    # Actualizar información del nodo si ya está presente\n",
    "                    current_G.nodes[node]['word_count'] += G.nodes[node].get('word_count', 0)\n",
    "\n",
    "    # Guardar el grafo acumulativo actual como archivo .gexf\n",
    "    relative_path = r\"./../networks/one_piece_cumulative\"\n",
    "    filename = f\"cumulative_step_{i + 1}.gexf\"\n",
    "    nx.write_gexf(current_G, os.path.join(relative_path,filename))\n",
    "    print(f\"Archivo guardado: {filename}\")\n",
    "\n",
    "    # Actualizar la red acumulativa para la próxima iteración\n",
    "    cumulative_G = current_G\n"
   ]
  }
 ],
 "metadata": {
  "kernelspec": {
   "display_name": "base",
   "language": "python",
   "name": "python3"
  },
  "language_info": {
   "codemirror_mode": {
    "name": "ipython",
    "version": 3
   },
   "file_extension": ".py",
   "mimetype": "text/x-python",
   "name": "python",
   "nbconvert_exporter": "python",
   "pygments_lexer": "ipython3",
   "version": "3.12.3"
  }
 },
 "nbformat": 4,
 "nbformat_minor": 2
}
